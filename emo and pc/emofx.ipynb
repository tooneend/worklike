{
 "cells": [
  {
   "cell_type": "code",
   "execution_count": 1,
   "metadata": {},
   "outputs": [],
   "source": [
    "import snownlp                        #SnowNLP只能处理unicode编码(在字符串前面加上u)\n",
    "import pandas as pd                   #用于接收数据\n",
    "import jieba as ja                    #用于分词\n",
    "from jieba import posseg as seg\n",
    "from snownlp import SnowNLP"
   ]
  },
  {
   "cell_type": "code",
   "execution_count": 2,
   "metadata": {},
   "outputs": [
    {
     "data": {
      "text/html": [
       "<div>\n",
       "<style scoped>\n",
       "    .dataframe tbody tr th:only-of-type {\n",
       "        vertical-align: middle;\n",
       "    }\n",
       "\n",
       "    .dataframe tbody tr th {\n",
       "        vertical-align: top;\n",
       "    }\n",
       "\n",
       "    .dataframe thead th {\n",
       "        text-align: right;\n",
       "    }\n",
       "</style>\n",
       "<table border=\"1\" class=\"dataframe\">\n",
       "  <thead>\n",
       "    <tr style=\"text-align: right;\">\n",
       "      <th></th>\n",
       "      <th>评论</th>\n",
       "    </tr>\n",
       "  </thead>\n",
       "  <tbody>\n",
       "    <tr>\n",
       "      <th>0</th>\n",
       "      <td>对邪恶和不公永远保持愤怒</td>\n",
       "    </tr>\n",
       "    <tr>\n",
       "      <th>1</th>\n",
       "      <td>持续关注！严惩严惩严惩严惩严惩严惩！真的是太气了太气了太气了！眼里没有人命的么？从这群人身上...</td>\n",
       "    </tr>\n",
       "    <tr>\n",
       "      <th>2</th>\n",
       "      <td>感觉这件事情最让人绝望的就是，你带入旁观者不敢见义勇为，你带入受害者就只能任人宰割。</td>\n",
       "    </tr>\n",
       "    <tr>\n",
       "      <th>3</th>\n",
       "      <td>终于等到你，罗老师</td>\n",
       "    </tr>\n",
       "    <tr>\n",
       "      <th>4</th>\n",
       "      <td>老师多喝点水，辛苦了，嗓子都哑了</td>\n",
       "    </tr>\n",
       "  </tbody>\n",
       "</table>\n",
       "</div>"
      ],
      "text/plain": [
       "                                                  评论\n",
       "0                                       对邪恶和不公永远保持愤怒\n",
       "1  持续关注！严惩严惩严惩严惩严惩严惩！真的是太气了太气了太气了！眼里没有人命的么？从这群人身上...\n",
       "2         感觉这件事情最让人绝望的就是，你带入旁观者不敢见义勇为，你带入受害者就只能任人宰割。\n",
       "3                                          终于等到你，罗老师\n",
       "4                                   老师多喝点水，辛苦了，嗓子都哑了"
      ]
     },
     "execution_count": 2,
     "metadata": {},
     "output_type": "execute_result"
    }
   ],
   "source": [
    "data = pd.read_csv('reply.csv')\n",
    "del data['用户名']\n",
    "data.head()"
   ]
  },
  {
   "cell_type": "code",
   "execution_count": 3,
   "metadata": {},
   "outputs": [
    {
     "name": "stderr",
     "output_type": "stream",
     "text": [
      "Building prefix dict from the default dictionary ...\n",
      "Loading model from cache C:\\Users\\zhangCD\\AppData\\Local\\Temp\\jieba.cache\n",
      "Loading model cost 0.635 seconds.\n",
      "Prefix dict has been built successfully.\n"
     ]
    }
   ],
   "source": [
    "happynum = 0\n",
    "sadnum = 0\n",
    "zhongjiannum = 0\n",
    "for i in data['评论']:\n",
    "   #analy = list(ja.cut(i))                     #分词\n",
    "   analy = [(word.word, word.flag) for word in seg.cut(i)]              #分词并分析词性\n",
    "   keywordsci = [x for x in analy if x[1] in ['a', 'd', 'v']]             #根据词性，提取关键词和关键词性\n",
    "   keywords = [x[0] for x in keywordsci]                                #去掉词性，只保留关键词\n",
    "\n",
    "   #情感分析\n",
    "   kaixnum = 0\n",
    "   shangxnum = 0   \n",
    "   for word in keywords:\n",
    "      sl = SnowNLP(word)\n",
    "      if sl.sentiments > 0.5:\n",
    "         kaixnum = kaixnum + 1\n",
    "      if sl.sentiments < 0.5:\n",
    "         shangxnum = shangxnum + 1\n",
    "   \n",
    "   if kaixnum > shangxnum:\n",
    "      happynum = happynum + 1\n",
    "   if kaixnum < shangxnum:\n",
    "      sadnum  = sadnum + 1\n",
    "   if kaixnum == shangxnum:\n",
    "      zhongjiannum = zhongjiannum + 1\n",
    "      "
   ]
  },
  {
   "cell_type": "code",
   "execution_count": 7,
   "metadata": {},
   "outputs": [
    {
     "name": "stdout",
     "output_type": "stream",
     "text": [
      "积极的评论数:20012\n",
      "比例为:0.6778903153687206\n",
      "消极的评论数:3237\n",
      "比例为:0.10965075708817452\n",
      "折中的评论数:6272\n",
      "比例为:0.21245892754310491\n"
     ]
    }
   ],
   "source": [
    "print(f'积极的评论数:{happynum}')\n",
    "numha = happynum/len(data)\n",
    "print(f'比例为:{numha}')\n",
    "print(f'消极的评论数:{sadnum}')\n",
    "numsa = sadnum/len(data)\n",
    "print(f'比例为:{numsa}')\n",
    "print(f'折中的评论数:{zhongjiannum}')\n",
    "numzj = zhongjiannum/len(data)\n",
    "print(f'比例为:{numzj}')"
   ]
  }
 ],
 "metadata": {
  "kernelspec": {
   "display_name": "Python 3",
   "language": "python",
   "name": "python3"
  },
  "language_info": {
   "codemirror_mode": {
    "name": "ipython",
    "version": 3
   },
   "file_extension": ".py",
   "mimetype": "text/x-python",
   "name": "python",
   "nbconvert_exporter": "python",
   "pygments_lexer": "ipython3",
   "version": "3.9.13"
  },
  "orig_nbformat": 4
 },
 "nbformat": 4,
 "nbformat_minor": 2
}
