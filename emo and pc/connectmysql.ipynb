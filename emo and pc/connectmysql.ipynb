{
 "cells": [
  {
   "cell_type": "code",
   "execution_count": 5,
   "metadata": {},
   "outputs": [],
   "source": [
    "import pymysql\n",
    "import pandas as pd"
   ]
  },
  {
   "cell_type": "code",
   "execution_count": 25,
   "metadata": {},
   "outputs": [],
   "source": [
    "\n",
    "connect1 = pymysql.connect(host='', user='',password='',charset='utf8mb4') #建立mysql连接\n",
    "mycursor = connect1.cursor()                     #创建游标\n",
    "\n",
    "sqlbase = \"create database if not exists avreply\"\n",
    "mycursor.execute(sqlbase)       #执行sql语句\n",
    "connect1.close()                 #关闭连接\n"
   ]
  },
  {
   "cell_type": "code",
   "execution_count": 26,
   "metadata": {},
   "outputs": [
    {
     "data": {
      "text/plain": [
       "0"
      ]
     },
     "execution_count": 26,
     "metadata": {},
     "output_type": "execute_result"
    }
   ],
   "source": [
    "connect2 = pymysql.connect(host='',user='',password='',database='avreply',port=3306)    #连接数据库\n",
    "mycursor2 = connect2.cursor()                                       #数据库游标\n",
    "sqltable = 'create table if not exists replytable(name varchar(30), reply varchar(1000))'\n",
    "mycursor2.execute(sqltable)"
   ]
  },
  {
   "cell_type": "code",
   "execution_count": 27,
   "metadata": {},
   "outputs": [
    {
     "name": "stdout",
     "output_type": "stream",
     "text": [
      "success\n"
     ]
    }
   ],
   "source": [
    "data = pd.read_csv('reply.csv')\n",
    "sqldata = 'replace into replytable(name,reply) values(%s,%s)'\n",
    "data = data.values.tolist()                 #csv读取出来数据为dataframe，这个可以把dataframe转化为list列表格式\n",
    "try:\n",
    "    mycursor2.executemany(sqldata,data)                  #执行sql语句，同时插入整个列表数据\n",
    "    connect2.commit()\n",
    "    print('success')\n",
    "except Exception as e:\n",
    "    print(e)\n",
    "    connect2.rollback()                                 #失败了则回滚并输出define\n",
    "    print('define')\n",
    "finally:\n",
    "    connect2.close()                                #最后关闭数据库连接"
   ]
  }
 ],
 "metadata": {
  "kernelspec": {
   "display_name": "Python 3",
   "language": "python",
   "name": "python3"
  },
  "language_info": {
   "codemirror_mode": {
    "name": "ipython",
    "version": 3
   },
   "file_extension": ".py",
   "mimetype": "text/x-python",
   "name": "python",
   "nbconvert_exporter": "python",
   "pygments_lexer": "ipython3",
   "version": "3.9.13"
  },
  "orig_nbformat": 4
 },
 "nbformat": 4,
 "nbformat_minor": 2
}
