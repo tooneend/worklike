{
 "cells": [
  {
   "cell_type": "code",
   "execution_count": 36,
   "metadata": {},
   "outputs": [],
   "source": [
    "import pandas as pd\n",
    "from sklearn.feature_extraction.text import TfidfVectorizer\n",
    "from sklearn.linear_model import SGDClassifier\n",
    "import jieba\n",
    "from sklearn.model_selection import train_test_split\n",
    "import numpy as np\n",
    "import joblib\n",
    "from snownlp import SnowNLP"
   ]
  },
  {
   "cell_type": "code",
   "execution_count": 37,
   "metadata": {},
   "outputs": [],
   "source": [
    "with open('cn_stopwords.txt','r',encoding='utf-8') as f:\n",
    "    stopwords = f.read()                                                        #读取停用词\n",
    "with open('hit_stopwords.txt','r',encoding='utf-8') as f:\n",
    "    stopwords2 = f.read()\n",
    "stopwords = stopwords + stopwords2                   #两组停用词合成一组\n",
    "def fengci(datatxt):\n",
    "    mostword = []\n",
    "    for i in datatxt:\n",
    "        words = []\n",
    "        word = jieba.cut(i)\n",
    "        for j in word:\n",
    "            if j not in stopwords:\n",
    "                words.append(j)\n",
    "        mostword.append(' '.join(words))          #这里join返回的是字符串，使得mostword是字符串形式\n",
    "    return mostword                               #分词函数"
   ]
  },
  {
   "cell_type": "code",
   "execution_count": 38,
   "metadata": {},
   "outputs": [],
   "source": [
    "data = pd.read_csv('reply.csv',encoding='utf-8')\n",
    "reply = data['评论']\n",
    "mostreply = fengci(reply)"
   ]
  },
  {
   "cell_type": "code",
   "execution_count": 39,
   "metadata": {},
   "outputs": [],
   "source": [
    "lr = joblib.load('SGD.pkl')\n",
    "tf_vect = joblib.load('TFV.pkl')\n",
    "test_tf = tf_vect.transform(mostreply)\n",
    "pred = lr.predict(test_tf)"
   ]
  },
  {
   "cell_type": "code",
   "execution_count": 40,
   "metadata": {},
   "outputs": [
    {
     "name": "stdout",
     "output_type": "stream",
     "text": [
      "1606\n"
     ]
    }
   ],
   "source": [
    "print(sum(pred))"
   ]
  },
  {
   "cell_type": "code",
   "execution_count": 41,
   "metadata": {},
   "outputs": [],
   "source": [
    "pessnum = sadnum = 0\n",
    "for i in mostreply:\n",
    "    kaixnum = shangxnum = 0\n",
    "    for word in i:\n",
    "        sl = SnowNLP(word)\n",
    "        if sl.sentiments > 0.5:\n",
    "            kaixnum = kaixnum + 1\n",
    "        if sl.sentiments < 0.5:\n",
    "            shangxnum = shangxnum + 1\n",
    "    \n",
    "    if kaixnum >= shangxnum:\n",
    "        pessnum = pessnum + 1\n",
    "    else:\n",
    "        sadnum = sadnum + 1"
   ]
  },
  {
   "cell_type": "code",
   "execution_count": 42,
   "metadata": {},
   "outputs": [
    {
     "name": "stdout",
     "output_type": "stream",
     "text": [
      "27569\n",
      "1952\n"
     ]
    }
   ],
   "source": [
    "print(pessnum)\n",
    "print(sadnum)"
   ]
  }
 ],
 "metadata": {
  "kernelspec": {
   "display_name": "Python 3",
   "language": "python",
   "name": "python3"
  },
  "language_info": {
   "codemirror_mode": {
    "name": "ipython",
    "version": 3
   },
   "file_extension": ".py",
   "mimetype": "text/x-python",
   "name": "python",
   "nbconvert_exporter": "python",
   "pygments_lexer": "ipython3",
   "version": "3.9.13"
  },
  "orig_nbformat": 4,
  "vscode": {
   "interpreter": {
    "hash": "11938c6bc6919ae2720b4d5011047913343b08a43b18698fd82dedb0d4417594"
   }
  }
 },
 "nbformat": 4,
 "nbformat_minor": 2
}
